{
 "cells": [
  {
   "cell_type": "markdown",
   "metadata": {},
   "source": [
    "# <center>Projet Analyse Numérique </center>\n",
    "<span style='color:blue'>Réalisé par :</span> **Haythem MRAD** et **Chiraz GUESMI**   éleves ingénieur en 2éme année téléinformatique \n",
    "<BR><span style='color:blue'>Sous la supervision de :</span> **D. Khemais ABDALLAH**"
   ]
  },
  {
   "cell_type": "markdown",
   "metadata": {},
   "source": [
    "---------------------------------------------------------------------------------------------------------------------------\n",
    "\n",
    "\n",
    "<img src=\"isitcom.png\" style=\"float: left; margin-right: 3px;\" > \n",
    "<img src=\"universiteDeSousse.png\" style=\"float: right; margin-right: 3px;\" >"
   ]
  },
  {
   "cell_type": "markdown",
   "metadata": {},
   "source": [
    "\n",
    "<h3>Objectif :</h3>\n",
    "Le but de ce projet est d’implémenter sous Python différentes méthodes d’intégration numérique permettant\n",
    "d’approcher la valeur de l’intégrale I(f) d’une fonction f(x) sur l’intervalle [a, b]:\n",
    "<br> $$\\int_a^b f(x) \\,dx,$$ .\n",
    "<h3> 1. Introduction </h3>\n",
    "<br>Les méthodes étudiées ici sont des méthodes simples se basant sur l’interpolation de la fonction à intégrer f(x)\n",
    "par un polynôme dont la primitive est connue. Quatre méthodes sont à l’étude, à savoir :\n",
    "<br>\n",
    "— la méthode du rectangle.\n",
    "<br>\n",
    "— la méthode du point fixe\n",
    "<br>\n",
    "— la méthode du trapèze.\n",
    "<br>\n",
    "— la méthode de Simpson.\n"
   ]
  },
  {
   "cell_type": "markdown",
   "metadata": {},
   "source": [
    "<h3>2 Les méthodes d’intégration numérique</h3>\n",
    "\n",
    "<h4>2.1 Méthode du rectangle et méthode du point fixe</h4>\n",
    "Les méthodes du rectangle et du point fixe consistent à interpoler une fonction f(x) par un polynôme de degré\n",
    "0 (c’est-à-dire une fonction constante, comme illustré sur les Figs. Un seul point d’interpolation ξ est\n",
    "alors considéré et l’intégrale I(f) de la fonction f(x) peut s’écrire 1\n",
    ":\n",
    "<br><center>$$I(f) = (b − a)f(ξ)$$.</center>\n",
    "<br>Deux cas sont considérés selon la position du point d’interpolation :\n",
    "<br>— si ξ = a ou ξ = b, il s’agit de la méthode du rectangle  d’ordre 0,\n",
    "<br>— si ξ = (a + b)/2, il s’agit de la méthode du point fixe  d’ordre 1.\n",
    "<h4>2.2 Méthode du trapèze</h4>\n",
    "La méthode du trapèze consiste à interpoler une fonction f(x) par un polynôme de degré 1 (c’est-à-dire une\n",
    "droite, comme illustré sur la Fig. 1-d). Les deux points d’interpolation a et b (qui sont les valeurs extrémales du\n",
    "domaine considéré) suffisent à définir le polynôme. L’intégrale I(f) de la fonction f(x) peut alors s’écrire :\n",
    "<br><center>$$I(f) = (b − a)/((f(a) + f(b)))*2$$</center>\n",
    "<br>Il s’agit d’une méthode d’ordre 1.\n"
   ]
  },
  {
   "cell_type": "markdown",
   "metadata": {},
   "source": [
    "<h4> 2.3 Méthode de Simpson </h4>\n",
    "La méthode de Simpson consiste à interpoler une fonction f(x) par un polynôme de degré 2 (voir Fig. 1-e).\n",
    "Les trois points d’interpolation utilisés sont alors :\n",
    "<br>les valeurs aux extrémités a et b.\n",
    "<br>le point central (a + b)/2.\n",
    "<br>L’intégrale I(f) de la fonction f(x) peut alors s’écrire :"
   ]
  },
  {
   "cell_type": "markdown",
   "metadata": {},
   "source": [
    "<img src=\"trapez.PNG\"   class=\"center\" >"
   ]
  },
  {
   "cell_type": "markdown",
   "metadata": {},
   "source": [
    "Il s’agit d’une méthode d’ordre 3."
   ]
  },
  {
   "cell_type": "markdown",
   "metadata": {},
   "source": [
    "<h3>3. Travail demandé</h3>"
   ]
  },
  {
   "cell_type": "markdown",
   "metadata": {},
   "source": [
    "1. Créer des classes:\n",
    "   - classe  rectangle\n",
    "   - classe point mileu \n",
    "   - classe trapéze \n",
    "   - classe simpson   \n",
    "chaque classe possedent des fonctions bien définie :\n",
    "   <br> a) calcul d'integral \n",
    "    <br> b)affichage de graph \n",
    "    <br> c)calcul de taux d'erreur \n",
    "2. l'application peut repondre aux besoins d'utlisateur \n",
    "    en effet l'utlisateur saisir une fonction continue avec ses bornes inferieur et superieur \n",
    "    puis il tape le nombre d'echantillonnage \n",
    "    de meme il peut choisir une ou plusiers méthode parmi les 4 pour qu'on puisse detrminer la valeur de l'integrale de la fonction \n",
    "    choisie \n",
    "3. les interfaces sont lisibles et simple a utiliser "
   ]
  },
  {
   "cell_type": "code",
   "execution_count": null,
   "metadata": {},
   "outputs": [],
   "source": []
  },
  {
   "cell_type": "code",
   "execution_count": 37,
   "metadata": {},
   "outputs": [],
   "source": [
    "from tkinter import *\n",
    "from tkinter import messagebox\n",
    "import matplotlib.pyplot as plt\n",
    "import numpy as np\n",
    "import math\n",
    "from matplotlib.backends.backend_tkagg import FigureCanvasTkAgg"
   ]
  },
  {
   "cell_type": "code",
   "execution_count": 107,
   "metadata": {},
   "outputs": [],
   "source": [
    "class Rectangle(object): #class rectange \n",
    "    def __init__(self, a, b, n, f):\n",
    "        self.a = a\n",
    "        self.b = b\n",
    "        self.x = np.linspace(a, b, n)\n",
    "        self.f = f\n",
    "        self.n = n\n",
    "    def integrate(self,f):\n",
    "        x=self.x\n",
    "        n=self.n\n",
    "        y=f\n",
    "        sol = 0\n",
    "        for i in range(n-1):\n",
    "            sol = sol + y[i]*(x[i+1]-x[i])\n",
    "        return sol\n",
    "    \n",
    "    \n",
    "    def graph(self,f):\n",
    "        x=self.x\n",
    "        n=self.n\n",
    "        y=f\n",
    "        integrale = 0\n",
    "        plt.plot(x,y,\"bo-\")\n",
    "        for i in range(n-1):\n",
    "            integrale = integrale + y[i]*(x[i+1]-x[i])\n",
    "            # dessin du rectangle\n",
    "            x_rect = [x[i], x[i], x[i+1], x[i+1], x[i]] # abscisses des sommets\n",
    "            y_rect = [0 , y[i], y[i] ,0 , 0] # ordonnees des sommets\n",
    "            plt.plot(x_rect, y_rect,\"r\")\n",
    "        print(\"integrale =\", integrale)\n",
    "        plt.show()"
   ]
  },
  {
   "cell_type": "code",
   "execution_count": 193,
   "metadata": {},
   "outputs": [],
   "source": [
    "class Trapezoidal(object):\n",
    "    def __init__(self, a, b, n, f):\n",
    "        self.a = a\n",
    "        self.b = b\n",
    "        self.x = np.linspace(a, b, n+1)\n",
    "        self.f = f\n",
    "        self.n = n\n",
    "    def integrate(self,f):\n",
    "        x=self.x\n",
    "        y=f\n",
    "        h = float(x[1] - x[0])\n",
    "        s = y[0] + y[-1] + 2.0*sum(y[1:-1])\n",
    "        return h * s / 2.0\n",
    "    def graph(self,f,resolution=1001):\n",
    "        xl = self.x\n",
    "        yl = f(xl)\n",
    "        xlist_fine=np.linspace(self.a, self.b, resolution)\n",
    "        for i in range(self.n):\n",
    "            x_rect = [xl[i], xl[i], xl[i+1], xl[i+1], xl[i]] # abscisses des sommets\n",
    "            y_rect = [0   , yl[i], yl[i+1]  , 0     , 0   ] # ordonnees des sommets\n",
    "            plot(x_rect, y_rect,\"m\")\n",
    "        yflist_fine = f(xlist_fine)\n",
    "        plt.plot(xlist_fine, yflist_fine)#plot de f(x)\n",
    "        plt.plot(xl, yl,\"cs\")#point support\n",
    "        plt.ylabel('f(x)')\n"
   ]
  },
  {
   "cell_type": "code",
   "execution_count": 202,
   "metadata": {},
   "outputs": [],
   "source": [
    "class PointMilieu(object):\n",
    "    def __init__(self, a, b, n, f):\n",
    "        self.a = a\n",
    "        self.b = b\n",
    "        self.x = np.linspace(a, b, n+1)\n",
    "        self.f = f\n",
    "        self.n = n\n",
    "    def integrate(self,f):\n",
    "        x=self.x# contiens les xi\n",
    "        h = float(x[1] - x[0])\n",
    "        s=0\n",
    "        for i in range(self.n):\n",
    "            s=s+f((x[i]+x[i+1])*0.5)\n",
    "        return h*s\n",
    "    def erreur(a,b,n):\n",
    "        e=((b-a)/(2**(n+1)))\n",
    "        return e\n",
    "    def Graph(self,f,resolution=1001):\n",
    "        xl = self.x\n",
    "        yl = f(xl)\n",
    "        xlist_fine=np.linspace(self.a, self.b, resolution)\n",
    "        for i in range(self.n):\n",
    "            m=(xl[i]+xl[i+1])/2\n",
    "            x_rect = [xl[i], xl[i], xl[i+1], xl[i+1], xl[i]] # abscisses des sommets\n",
    "            y_rect = [0   , f(m), f(m)  , 0     , 0   ] # ordonnees des sommets\n",
    "            plt.plot(x_rect, y_rect,\"r\")\n",
    "            plt.plot(m,f(m),\"bo\")\n",
    "        yflist_fine = f(xlist_fine)\n",
    "        plt.plot(xlist_fine, yflist_fine)#plot de f(x)\n",
    "        plt.xlabel ( ' x ' )\n",
    "        plt.ylabel ( ' f ( x ) ' )\n",
    "        plt.title ( ' Methode des milieu' )\n",
    "        #plt.text( 0.5*( self.a+ self.b ) , f(self.b ) , 'I_{} ={:0.8f}'.format(self.n,self.integrate( f ) ) , fontsize =15 )"
   ]
  },
  {
   "cell_type": "code",
   "execution_count": 206,
   "metadata": {},
   "outputs": [],
   "source": [
    "class Simpson(object):\n",
    "    def __init__(self, a, b, n, f):\n",
    "        self.a = a\n",
    "        self.b = b\n",
    "        self.x = np.linspace(a, b, n+1)\n",
    "        self.f = f\n",
    "        self.n = n\n",
    "    def integrate(self,f):\n",
    "        x=self.x\n",
    "        y=f\n",
    "        h = float(x[1] - x[0])\n",
    "        n=len(x)\n",
    "        s= 0\n",
    "        for i in range(0, n):\n",
    "            Xi = self.a + (self.b - self.a) * i/float(n)\n",
    "            Xj = self.a+ (self.b - self.a) * (i + 1)/float(self.n)\n",
    "            s += (Xj - Xi) * (f(Xi) + 4.0*f((Xi + Xj)/2.0) + f(Xj))/6.0\n",
    "            s = y[0] + y[-1] + 2.0*sum(y[1:-1])\n",
    "        return h * s\n",
    "    def Graph(self,f,resolution=1001):\n",
    "        xl = self.x\n",
    "        yl = f(xl)\n",
    "        aa=self.a\n",
    "        bb=self.b\n",
    "        m=(aa+bb)/2\n",
    "        xlist_fine=np.linspace(self.a, self.b, resolution)\n",
    "        xx=xlist_fine\n",
    "        for i in range ( self.n ) :\n",
    "\n",
    "            l0=(xx-bb)/(aa-bb)*(xx-m)/(aa-m)\n",
    "            l1=(xx-aa)/(m-aa)*(xx-bb)/(m-bb) \n",
    "            l2= (xx-aa)/(bb-aa)*(xx-m)/(bb-m)\n",
    "            p=f(aa)*l0+f(m)*l1+f(bb)*l2 #polynome\n",
    "            plt.plot ( xx , p , 'b' ) \n",
    "            #plt.plot(m,f(m),\"r\")\n",
    "        yflist_fine = f(xlist_fine)\n",
    "        plt.plot(xlist_fine, yflist_fine,\"g\")#plot de f(x)\n",
    "        plt.plot(xl, yl,'bo')#point support\n",
    "        plt.ylabel ( ' f ( x ) ' )\n",
    "        plt.title ( ' Simpson' )\n",
    "        #plt.text( 0.5*( self.a+ self.b ) , f(self.b ) , 'I_{} ={:0.8f}'.format(self.n,self.integrate( f ) ) , fontsize =15 )"
   ]
  },
  {
   "cell_type": "code",
   "execution_count": 209,
   "metadata": {
    "scrolled": false
   },
   "outputs": [
    {
     "name": "stderr",
     "output_type": "stream",
     "text": [
      "Exception in Tkinter callback\n",
      "Traceback (most recent call last):\n",
      "  File \"C:\\Users\\haythem\\anaconda3\\lib\\tkinter\\__init__.py\", line 1883, in __call__\n",
      "    return self.func(*args)\n",
      "  File \"<ipython-input-209-746f1b22522a>\", line 101, in calcul_inter\n",
      "    label3.grid(row=8, column=1)\n",
      "NameError: name 'label3' is not defined\n"
     ]
    },
    {
     "name": "stdout",
     "output_type": "stream",
     "text": [
      "integrale = 59.000000000000014\n"
     ]
    },
    {
     "data": {
      "image/png": "[encoded data removed]",
      "text/plain": [
       "<Figure size 576x432 with 1 Axes>"
      ]
     },
     "metadata": {
      "needs_background": "light"
     },
     "output_type": "display_data"
    }
   ],
   "source": [
    "class interface:\n",
    "\n",
    "    def __init__(self, window):\n",
    "        self.window = window\n",
    "#----------------------------------------------------\n",
    "\n",
    "        varTitle = StringVar()\n",
    "        varTitle.set(\"Intégration numérique\")\n",
    "        labelTitle = Label(window, textvariable=varTitle, height=2)\n",
    "        labelTitle.grid(row=0, columnspan=3, sticky=S, padx=10)\n",
    "#----------------------------------------------------\n",
    "\n",
    "        varF = StringVar()\n",
    "        varF.set(\"La fonction f(x) :\")\n",
    "        labelF = Label(window, textvariable=varF, height=2)\n",
    "        labelF.grid(row=1, sticky=W, pady=10, padx=20)\n",
    "\n",
    "        idF = StringVar()\n",
    "        self.boxF = Entry(window, bd=4, width=40, textvariable=idF)\n",
    "        self.boxF.grid(row=1, column=1, pady=10, padx=10)\n",
    "#----------------------------------------------------\n",
    "\n",
    "        varA = StringVar()\n",
    "        varA.set(\"La borne inférieur, a :\")\n",
    "        labelA = Label(window, textvariable=varA, height=2)\n",
    "        labelA.grid(row=2, sticky=W, pady=10, padx=20)\n",
    "\n",
    "        idA = StringVar()\n",
    "        self.boxA = Entry(window, bd=4, width=40, textvariable=idA)\n",
    "        self.boxA.grid(row=2, column=1, pady=10, padx=10)\n",
    "#----------------------------------------------------\n",
    "\n",
    "        varB = StringVar()\n",
    "        varB.set(\"La borne supérieur, b :\")\n",
    "        labelB = Label(window, textvariable=varB, height=2)\n",
    "        labelB.grid(row=3, sticky=W, pady=10, padx=20)\n",
    "\n",
    "        idB = StringVar()\n",
    "        self.boxB = Entry(window, bd=4, width=40, textvariable=idB)\n",
    "        self.boxB.grid(row=3, column=1, pady=10, padx=10)\n",
    "#----------------------------------------------------\n",
    "\n",
    "        varN = StringVar()\n",
    "        varN.set(\"valeur de N :\")\n",
    "        labelN = Label(window, textvariable=varN, height=2)\n",
    "        labelN.grid(row=4, sticky=W, pady=10, padx=20)\n",
    "\n",
    "        idN = StringVar()\n",
    "        self.boxN = Entry(window, bd=4, width=40, textvariable=idN)\n",
    "        self.boxN.grid(row=4, column=1, pady=10, padx=10)\n",
    "\n",
    "#----------------------------------------------------\n",
    "        self.button1 = Button(window, text=\"  graphe  \", bg=\"#181828\", command=self.graphe,fg=\"white\",width=20)\n",
    "        self.button1.grid(row=5, column=0, pady=20, padx=20)\n",
    "\n",
    "        self.button2 = Button(window, text=\"  erreur   \", bg=\"#882828\", fg=\"white\",width=20)\n",
    "        self.button2.grid(row=5, column=2, pady=20, padx=20)\n",
    "        \n",
    "        self.button3 = Button(window, text=\"  tableau   \", bg=\"#481828\",command=self.calcul_inter, fg=\"white\",width=20)\n",
    "        self.button3.grid(row=5, column=1, pady=20, padx=20)\n",
    "#----------------------------------------------------\n",
    "       \n",
    "    def graphe(self):\n",
    "            n = int(self.boxN.get())\n",
    "            a = float(self.boxA.get())\n",
    "            b = float(self.boxB.get())\n",
    "            x = np.linspace(a, b, n)\n",
    "            F =eval (self.boxF.get())\n",
    "            #f = lambda x: eval(F)\n",
    "            Rec=Rectangle(a,b,n,F)\n",
    "            trap=Trapezoidal(a,b,n,F)\n",
    "            ptm=PointMilieu(a,b,n,F)\n",
    "            simp=Simpson(a,b,n,F)\n",
    "    #-----------------------------------------------------\n",
    "            self.fig = plt.figure(1, figsize=(8, 6))\n",
    "            self.a = self.fig.add_subplot(221)\n",
    "            Rec.graph(F)\n",
    "            self.a.grid(True)            \n",
    "            self.canvas = FigureCanvasTkAgg(self.fig, master=self.window)\n",
    "            self.canvas.get_tk_widget().grid(row=1, column=3, rowspan=6, pady=10, padx=10)\n",
    "#----------------------------------------------------\n",
    "    def calcul_inter(self):\n",
    "            n = int(self.boxN.get())\n",
    "            a = float(self.boxA.get())\n",
    "            b = float(self.boxB.get())\n",
    "            x = np.linspace(a, b, n)\n",
    "            F =eval (self.boxF.get())\n",
    "            #f = lambda x: eval(F)\n",
    "            Rec=Rectangle(a,b,n,F)\n",
    "            trap=Trapezoidal(a,b,n,F)\n",
    "            ptm=PointMilieu(a,b,n,F)\n",
    "            simp=Simpson(a,b,n,F)\n",
    "            v1='Rectangle = ',Rec.integrate(F)  \n",
    "            label1 = Label(window, text=v1,bg=\"#481828\", fg=\"white\")\n",
    "            label1.grid(row=6, column=1)\n",
    "            v2='trapez = ',trap.integrate(F)  \n",
    "            label2 = Label(window, text=v2,bg=\"#03170e\", fg=\"white\")\n",
    "            label2.grid(row=7, column=1)\n",
    "           # v3='point melieu = ',ptm.integrate(F) \n",
    "            #label3 = Label(window, text=v3,bg=\"#b01925\", fg=\"white\")\n",
    "            label3.grid(row=8, column=1)\n",
    "            v4='simpson = ',simp.integrate(F)  \n",
    "            label4 = Label(window, text=v4,bg=\"#1e332a\", fg=\"white\")\n",
    "            label4.grid(row=9, column=1)\n",
    "            \n",
    "#----------------------------------------------------\n",
    "        \n",
    "if __name__ == '__main__':\n",
    "    window = Tk()\n",
    "    window.title('Intégration numérique')\n",
    "    window.resizable(width=True, height=True)\n",
    "    window.geometry('+0+0')\n",
    "    start = interface(window)\n",
    "    window.mainloop()\n"
   ]
  },
  {
   "cell_type": "code",
   "execution_count": null,
   "metadata": {},
   "outputs": [],
   "source": []
  },
  {
   "cell_type": "code",
   "execution_count": null,
   "metadata": {},
   "outputs": [],
   "source": []
  },
  {
   "cell_type": "code",
   "execution_count": null,
   "metadata": {},
   "outputs": [],
   "source": []
  }
 ],
 "metadata": {
  "kernelspec": {
   "display_name": "Python 3",
   "language": "python",
   "name": "python3"
  },
  "language_info": {
   "codemirror_mode": {
    "name": "ipython",
    "version": 3
   },
   "file_extension": ".py",
   "mimetype": "text/x-python",
   "name": "python",
   "nbconvert_exporter": "python",
   "pygments_lexer": "ipython3",
   "version": "3.8.3"
  }
 },
 "nbformat": 4,
 "nbformat_minor": 4
}
