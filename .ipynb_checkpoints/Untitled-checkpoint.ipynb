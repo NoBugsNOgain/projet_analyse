{
 "cells": [
  {
   "cell_type": "code",
   "execution_count": 19,
   "metadata": {},
   "outputs": [],
   "source": [
    "from tkinter import *\n",
    "\n",
    "\n",
    "from matplotlib.backends.backend_tkagg import ( FigureCanvasTkAgg)\n",
    "from matplotlib.figure import Figure\n",
    "import numpy as np\n",
    "\n",
    "\n",
    "root = Tk()\n",
    "root.wm_title(\"Embedding in Tk\")\n",
    "fig = Figure(figsize=(5, 4), dpi=100)\n",
    "t = np.arange(0, 3, .01)\n",
    "fig.add_subplot(111).plot(t, 2 * np.sin(2 * np.pi * t))\n",
    "canvas = FigureCanvasTkAgg(fig, master=root)\n",
    "canvas.draw()\n",
    "canvas.get_tk_widget().pack()\n",
    "root.mainloop()"
   ]
  },
  {
   "cell_type": "code",
   "execution_count": null,
   "metadata": {},
   "outputs": [],
   "source": []
  }
 ],
 "metadata": {
  "kernelspec": {
   "display_name": "Python 3",
   "language": "python",
   "name": "python3"
  },
  "language_info": {
   "codemirror_mode": {
    "name": "ipython",
    "version": 3
   },
   "file_extension": ".py",
   "mimetype": "text/x-python",
   "name": "python",
   "nbconvert_exporter": "python",
   "pygments_lexer": "ipython3",
   "version": "3.8.3"
  }
 },
 "nbformat": 4,
 "nbformat_minor": 4
}
