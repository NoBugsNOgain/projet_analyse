{
 "cells": [
  {
   "cell_type": "markdown",
   "metadata": {},
   "source": [
    "# <center>Projet Analyse Numérique </center>\n",
    "<span style='color:blue'>Réalisé par :</span> **Haythem MRAD** et **Chiraz GUESMI**   éleves ingénieur en 2éme année téléinformatique \n",
    "<BR><span style='color:blue'>Sous la supervision de :</span> **D. Khemais ABDALLAH**"
   ]
  },
  {
   "cell_type": "markdown",
   "metadata": {},
   "source": [
    "---------------------------------------------------------------------------------------------------------------------------\n",
    "\n",
    "\n",
    "<img src=\"isitcom.png\" style=\"float: left; margin-right: 3px;\" > \n",
    "<img src=\"universiteDeSousse.png\" style=\"float: right; margin-right: 3px;\" >"
   ]
  },
  {
   "cell_type": "markdown",
   "metadata": {},
   "source": [
    "\n",
    "<h3>Objectif :</h3>\n",
    "Le but de ce projet est d’implémenter sous Python différentes méthodes d’intégration numérique permettant\n",
    "d’approcher la valeur de l’intégrale I(f) d’une fonction f(x) sur l’intervalle [a, b]:\n",
    "<br> $$\\int_a^b f(x) \\,dx,$$ .\n",
    "<h3> 1. Introduction </h3>\n",
    "<br>Les méthodes étudiées ici sont des méthodes simples se basant sur l’interpolation de la fonction à intégrer f(x)\n",
    "par un polynôme dont la primitive est connue. Quatre méthodes sont à l’étude, à savoir :\n",
    "<br>\n",
    "— la méthode du rectangle.\n",
    "<br>\n",
    "— la méthode du point fixe\n",
    "<br>\n",
    "— la méthode du trapèze.\n",
    "<br>\n",
    "— la méthode de Simpson.\n"
   ]
  },
  {
   "cell_type": "markdown",
   "metadata": {},
   "source": [
    "<h3>2 Les méthodes d’intégration numérique</h3>\n",
    "\n",
    "<h4>2.1 Méthode du rectangle et méthode du point fixe</h4>\n",
    "Les méthodes du rectangle et du point fixe consistent à interpoler une fonction f(x) par un polynôme de degré\n",
    "0 (c’est-à-dire une fonction constante, comme illustré sur les Figs. Un seul point d’interpolation ξ est\n",
    "alors considéré et l’intégrale I(f) de la fonction f(x) peut s’écrire 1\n",
    ":\n",
    "<br><center>$$I(f) = (b − a)f(ξ)$$.</center>\n",
    "<br>Deux cas sont considérés selon la position du point d’interpolation :\n",
    "<br>— si ξ = a ou ξ = b, il s’agit de la méthode du rectangle  d’ordre 0,\n",
    "<br>— si ξ = (a + b)/2, il s’agit de la méthode du point fixe  d’ordre 1.\n",
    "<h4>2.2 Méthode du trapèze</h4>\n",
    "La méthode du trapèze consiste à interpoler une fonction f(x) par un polynôme de degré 1 (c’est-à-dire une\n",
    "droite, comme illustré sur la Fig. 1-d). Les deux points d’interpolation a et b (qui sont les valeurs extrémales du\n",
    "domaine considéré) suffisent à définir le polynôme. L’intégrale I(f) de la fonction f(x) peut alors s’écrire :\n",
    "<br><center>$$I(f) = (b − a)/((f(a) + f(b)))*2$$</center>\n",
    "<br>Il s’agit d’une méthode d’ordre 1.\n"
   ]
  },
  {
   "cell_type": "markdown",
   "metadata": {},
   "source": [
    "<h4> 2.3 Méthode de Simpson </h4>\n",
    "La méthode de Simpson consiste à interpoler une fonction f(x) par un polynôme de degré 2 (voir Fig. 1-e).\n",
    "Les trois points d’interpolation utilisés sont alors :\n",
    "<br>les valeurs aux extrémités a et b.\n",
    "<br>le point central (a + b)/2.\n",
    "<br>L’intégrale I(f) de la fonction f(x) peut alors s’écrire :\n"
   ]
  },
  {
   "cell_type": "markdown",
   "metadata": {},
   "source": [
    "<img src=\"trapez.PNG\"   class=\"center\" >"
   ]
  },
  {
   "cell_type": "markdown",
   "metadata": {},
   "source": [
    "Il s’agit d’une méthode d’ordre 3."
   ]
  },
  {
   "cell_type": "markdown",
   "metadata": {},
   "source": [
    "<h3>3. Travail demandé</h3>"
   ]
  },
  {
   "cell_type": "markdown",
   "metadata": {},
   "source": [
    "1. Créer des classes:\n",
    "   - classe  rectangle\n",
    "   - classe point mileu \n",
    "   - classe trapéze \n",
    "   - classe simpson   \n",
    "chaque classe possedent des fonctions bien définie :\n",
    "   <br> a) calcul d'integral \n",
    "    <br> b)affichage de graph \n",
    "    <br> c)calcul de taux d'erreur \n",
    "2. l'application peut repondre aux besoins d'utlisateur \n",
    "    en effet l'utlisateur saisir une fonction continue avec ses bornes inferieur et superieur \n",
    "    puis il tape le nombre d'echantillonnage \n",
    "    de meme il peut choisir une ou plusiers méthode parmi les 4 pour qu'on puisse detrminer la valeur de l'integrale de la fonction \n",
    "    choisie \n",
    "3. les interfaces sont lisibles et simple a utiliser "
   ]
  },
  {
   "cell_type": "code",
   "execution_count": 1,
   "metadata": {},
   "outputs": [],
   "source": [
    "import numpy as np\n",
    "from numpy import *\n",
    "import matplotlib.pyplot as plt\n",
    "f=lambda x:1/(1+x**2)"
   ]
  },
  {
   "cell_type": "code",
   "execution_count": 2,
   "metadata": {},
   "outputs": [],
   "source": [
    "class PointMilieu(object):\n",
    "    def __init__(self, a, b, n, f):\n",
    "        self.a = a\n",
    "        self.b = b\n",
    "        self.x = np.linspace(a, b, n+1)\n",
    "        self.f = f\n",
    "        self.n = n\n",
    "    def integrate(self,f):\n",
    "        x=self.x\n",
    "        y=f(x)\n",
    "        h = float(x[1] - x[0])\n",
    "        s = 0\n",
    "        for i in range(self,n):\n",
    "            s=s+f((x[i]+x[i+1])*0.5)\n",
    "        return h * s\n",
    "    def erreur(a,b,n):\n",
    "        e=((b-a)/(2**(n+1)))\n",
    "        return e\n",
    "    def Graph(self,f,resolution=1001):\n",
    "        xl = self.x\n",
    "        yl = f(xl)\n",
    "        xlist_fine=np.linspace(self.a, self.b, resolution)\n",
    "        for i in range(self.n):\n",
    "            m=(xl[i]+xl[i+1])/2\n",
    "            x_rect = [xl[i], xl[i], xl[i+1], xl[i+1], xl[i]] # abscisses des sommets\n",
    "            y_rect = [0   , f(m), f(m)  , 0     , 0   ] # ordonnees des sommets\n",
    "            plt.plot(x_rect, y_rect,\"r\")\n",
    "            plt.plot(m,f(m),\"bo\")\n",
    "        yflist_fine = f(xlist_fine)\n",
    "        plt.plot(xlist_fine, yflist_fine)#plot de f(x)\n",
    "        plt.xlabel ( ' x ' )\n",
    "        plt.ylabel ( ' f ( x ) ' )\n",
    "        plt.title ( ' Methode des milieu' )\n",
    "        #plt.text( 0.5*( self.a+ self.b ) , f(self.b ) , 'I_{} ={:0.8f}'.format(self.n,self.integrate( f ) ) , fontsize =15 )"
   ]
  },
  {
   "cell_type": "code",
   "execution_count": 3,
   "metadata": {},
   "outputs": [],
   "source": [
    "def simull(n,f):\n",
    "    P=PointMilieu(-1,1,n,f)\n",
    "    return P.Graph(f)"
   ]
  },
  {
   "cell_type": "code",
   "execution_count": 4,
   "metadata": {},
   "outputs": [
    {
     "data": {
      "image/png": "[encoded data removed]",
      "text/plain": [
       "<Figure size 432x288 with 1 Axes>"
      ]
     },
     "metadata": {
      "needs_background": "light"
     },
     "output_type": "display_data"
    }
   ],
   "source": [
    "simull(5,f)"
   ]
  },
  {
   "cell_type": "code",
   "execution_count": 5,
   "metadata": {},
   "outputs": [],
   "source": [
    "class Simpson(object):\n",
    "    def __init__(self, a, b, n, f):\n",
    "        self.a = a\n",
    "        self.b = b\n",
    "        self.x = np.linspace(a, b, n+1)\n",
    "        self.f = f\n",
    "        self.n = n\n",
    "    def integrate(self,f):\n",
    "        x=self.x\n",
    "        y=f(x)\n",
    "        h = float(x[1] - x[0])\n",
    "        n=len(x)\n",
    "        s= 0\n",
    "        for i in range(0, n):\n",
    "            Xi = self.a + (self.b - self.a) * i/float(n)\n",
    "            Xj = self.a+ (self.b - self.a) * (i + 1)/float(self.n)\n",
    "            s += (Xj - Xi) * (f(Xi) + 4.0*f((Xi + Xj)/2.0) + f(Xj))/6.0\n",
    "            s = y[0] + y[-1] + 2.0*sum(y[1:-1])\n",
    "        return h * s\n",
    "    def Graph(self,f,resolution=1001):\n",
    "        xl = self.x\n",
    "        yl = f(xl)\n",
    "        aa=self.a\n",
    "        bb=self.b\n",
    "        m=(aa+bb)/2\n",
    "        xlist_fine=np.linspace(self.a, self.b, resolution)\n",
    "        xx=xlist_fine\n",
    "        for i in range ( self.n ) :\n",
    "\n",
    "            l0=(xx-bb)/(aa-bb)*(xx-m)/(aa-m)\n",
    "            l1=(xx-aa)/(m-aa)*(xx-bb)/(m-bb) \n",
    "            l2= (xx-aa)/(bb-aa)*(xx-m)/(bb-m)\n",
    "            p=f(aa)*l0+f(m)*l1+f(bb)*l2 #polynome\n",
    "            plt.plot ( xx , p , 'b' ) \n",
    "            #plt.plot(m,f(m),\"r\")\n",
    "        yflist_fine = f(xlist_fine)\n",
    "        plt.plot(xlist_fine, yflist_fine,\"g\")#plot de f(x)\n",
    "        plt.plot(xl, yl,'bo')#point support\n",
    "        plt.ylabel ( ' f ( x ) ' )\n",
    "        plt.title ( ' Simpson' )\n",
    "        #plt.text( 0.5*( self.a+ self.b ) , f(self.b ) , 'I_{} ={:0.8f}'.format(self.n,self.integrate( f ) ) , fontsize =15 )"
   ]
  },
  {
   "cell_type": "code",
   "execution_count": 6,
   "metadata": {},
   "outputs": [],
   "source": [
    "def simula(n,f):\n",
    "    S=Simpson(-1,1,n,f)\n",
    "    return S.Graph(f)"
   ]
  },
  {
   "cell_type": "code",
   "execution_count": 7,
   "metadata": {},
   "outputs": [
    {
     "data": {
      "text/plain": [
       "3.1230769230769218"
      ]
     },
     "execution_count": 7,
     "metadata": {},
     "output_type": "execute_result"
    },
    {
     "data": {
      "image/png": "[encoded data removed]",
      "text/plain": [
       "<Figure size 432x288 with 1 Axes>"
      ]
     },
     "metadata": {
      "needs_background": "light"
     },
     "output_type": "display_data"
    }
   ],
   "source": [
    "simula(6,f)\n",
    "Simpson(-1,1,6,f).integrate(f)"
   ]
  },
  {
   "cell_type": "code",
   "execution_count": 8,
   "metadata": {},
   "outputs": [],
   "source": [
    "def erreur(a,b,n):\n",
    "    e=((b-a)/(2**(n+1)))\n",
    "    return e\n",
    "    "
   ]
  },
  {
   "cell_type": "code",
   "execution_count": 9,
   "metadata": {},
   "outputs": [
    {
     "name": "stdout",
     "output_type": "stream",
     "text": [
      "0.0048828125\n"
     ]
    }
   ],
   "source": [
    "e=erreur(1,6,9)\n",
    "print(e)"
   ]
  },
  {
   "cell_type": "code",
   "execution_count": 10,
   "metadata": {},
   "outputs": [
    {
     "data": {
      "text/plain": [
       "1"
      ]
     },
     "execution_count": 10,
     "metadata": {},
     "output_type": "execute_result"
    }
   ],
   "source": [
    "2**(0)"
   ]
  },
  {
   "cell_type": "code",
   "execution_count": 11,
   "metadata": {},
   "outputs": [
    {
     "ename": "SyntaxError",
     "evalue": "invalid syntax (<ipython-input-11-7dc75c1cd259>, line 4)",
     "output_type": "error",
     "traceback": [
      "\u001b[1;36m  File \u001b[1;32m\"<ipython-input-11-7dc75c1cd259>\"\u001b[1;36m, line \u001b[1;32m4\u001b[0m\n\u001b[1;33m    y = x**2 sp.diff(f,x,3)\u001b[0m\n\u001b[1;37m             ^\u001b[0m\n\u001b[1;31mSyntaxError\u001b[0m\u001b[1;31m:\u001b[0m invalid syntax\n"
     ]
    }
   ],
   "source": [
    "import sympy as sp\n",
    "def erreur (a,b,n,f):\n",
    "    x = sp.Symbol('x')\n",
    "    y = x**2 sp.diff(f,x,3)\n",
    "    e=(b-a)**5/(2880*(n**4)*y)"
   ]
  },
  {
   "cell_type": "code",
   "execution_count": 12,
   "metadata": {},
   "outputs": [
    {
     "ename": "NameError",
     "evalue": "name 'Symbol' is not defined",
     "output_type": "error",
     "traceback": [
      "\u001b[1;31m---------------------------------------------------------------------------\u001b[0m",
      "\u001b[1;31mNameError\u001b[0m                                 Traceback (most recent call last)",
      "\u001b[1;32m<ipython-input-12-8342c34942a8>\u001b[0m in \u001b[0;36m<module>\u001b[1;34m\u001b[0m\n\u001b[0;32m      1\u001b[0m \u001b[1;32mimport\u001b[0m \u001b[0msympy\u001b[0m \u001b[1;32mas\u001b[0m \u001b[0ms\u001b[0m\u001b[1;33m\u001b[0m\u001b[1;33m\u001b[0m\u001b[0m\n\u001b[1;32m----> 2\u001b[1;33m \u001b[0mt\u001b[0m \u001b[1;33m=\u001b[0m \u001b[0mSymbol\u001b[0m\u001b[1;33m(\u001b[0m\u001b[1;34m\"t\"\u001b[0m\u001b[1;33m)\u001b[0m\u001b[1;33m\u001b[0m\u001b[1;33m\u001b[0m\u001b[0m\n\u001b[0m\u001b[0;32m      3\u001b[0m \u001b[0mx\u001b[0m \u001b[1;33m=\u001b[0m \u001b[0mFunction\u001b[0m\u001b[1;33m(\u001b[0m\u001b[1;34m\"x\"\u001b[0m\u001b[1;33m)\u001b[0m\u001b[1;33m(\u001b[0m\u001b[0mt\u001b[0m\u001b[1;33m)\u001b[0m\u001b[1;33m\u001b[0m\u001b[1;33m\u001b[0m\u001b[0m\n\u001b[0;32m      4\u001b[0m \u001b[0mL\u001b[0m \u001b[1;33m=\u001b[0m \u001b[0mx\u001b[0m\u001b[1;33m**\u001b[0m\u001b[1;36m2\u001b[0m \u001b[1;33m+\u001b[0m \u001b[0mdiff\u001b[0m\u001b[1;33m(\u001b[0m\u001b[0mx\u001b[0m\u001b[1;33m,\u001b[0m \u001b[0mt\u001b[0m\u001b[1;33m)\u001b[0m\u001b[1;33m**\u001b[0m\u001b[1;36m2\u001b[0m    \u001b[1;31m# Lagrangian\u001b[0m\u001b[1;33m\u001b[0m\u001b[1;33m\u001b[0m\u001b[0m\n\u001b[0;32m      5\u001b[0m \u001b[0mEL\u001b[0m \u001b[1;33m=\u001b[0m \u001b[1;33m-\u001b[0m\u001b[0mdiff\u001b[0m\u001b[1;33m(\u001b[0m\u001b[0mdiff\u001b[0m\u001b[1;33m(\u001b[0m\u001b[0mL\u001b[0m\u001b[1;33m,\u001b[0m \u001b[0mdiff\u001b[0m\u001b[1;33m(\u001b[0m\u001b[0mx\u001b[0m\u001b[1;33m,\u001b[0m \u001b[0mt\u001b[0m\u001b[1;33m)\u001b[0m\u001b[1;33m)\u001b[0m\u001b[1;33m,\u001b[0m \u001b[0mt\u001b[0m\u001b[1;33m)\u001b[0m \u001b[1;33m+\u001b[0m \u001b[0mdiff\u001b[0m\u001b[1;33m(\u001b[0m\u001b[0mL\u001b[0m\u001b[1;33m,\u001b[0m \u001b[0mx\u001b[0m\u001b[1;33m)\u001b[0m\u001b[1;33m\u001b[0m\u001b[1;33m\u001b[0m\u001b[0m\n",
      "\u001b[1;31mNameError\u001b[0m: name 'Symbol' is not defined"
     ]
    }
   ],
   "source": [
    "import sympy as s\n",
    "t = Symbol(\"t\")\n",
    "x = Function(\"x\")(t)\n",
    "L = x**2 + diff(x, t)**2    # Lagrangian\n",
    "EL = -diff(diff(L, diff(x, t)), t) + diff(L, x)"
   ]
  },
  {
   "cell_type": "code",
   "execution_count": null,
   "metadata": {},
   "outputs": [],
   "source": []
  },
  {
   "cell_type": "code",
   "execution_count": null,
   "metadata": {},
   "outputs": [],
   "source": []
  }
 ],
 "metadata": {
  "kernelspec": {
   "display_name": "Python 3",
   "language": "python",
   "name": "python3"
  },
  "language_info": {
   "codemirror_mode": {
    "name": "ipython",
    "version": 3
   },
   "file_extension": ".py",
   "mimetype": "text/x-python",
   "name": "python",
   "nbconvert_exporter": "python",
   "pygments_lexer": "ipython3",
   "version": "3.8.3"
  }
 },
 "nbformat": 4,
 "nbformat_minor": 4
}
