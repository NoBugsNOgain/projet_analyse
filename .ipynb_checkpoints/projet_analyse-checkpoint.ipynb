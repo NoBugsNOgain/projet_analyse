{
 "cells": [
  {
   "cell_type": "code",
   "execution_count": 28,
   "metadata": {},
   "outputs": [],
   "source": [
    "import numpy as np\n",
    "import matplotlib.pyplot as plt\n"
   ]
  },
  {
   "cell_type": "markdown",
   "metadata": {},
   "source": [
    "# rectangle:"
   ]
  },
  {
   "cell_type": "code",
   "execution_count": 49,
   "metadata": {},
   "outputs": [],
   "source": [
    "class Rectangle(object): #class rectange \n",
    "    def __init__(self, a, b, n, f):\n",
    "        self.a = a\n",
    "        self.b = b\n",
    "        self.x = np.linspace(a, b, n)\n",
    "        self.f = f\n",
    "        self.n = n\n",
    "    def integrate(self,f):\n",
    "        x=self.x\n",
    "        n=self.n\n",
    "        y=f\n",
    "        sol = 0\n",
    "        for i in range(n-1):\n",
    "            sol = sol + y[i]*(x[i+1]-x[i])\n",
    "        return sol\n",
    "    \n",
    "    \n",
    "    def graph(self,f):\n",
    "        x=self.x\n",
    "        n=self.n\n",
    "        y=f\n",
    "        integrale = 0\n",
    "        plt.plot(x,y,\"bo-\")\n",
    "        for i in range(n-1):\n",
    "            integrale = integrale + y[i]*(x[i+1]-x[i])\n",
    "            # dessin du rectangle\n",
    "            x_rect = [x[i], x[i], x[i+1], x[i+1], x[i]] # abscisses des sommets\n",
    "            y_rect = [0   , y[i], y[i] ,0 , 0] # ordonnees des sommets\n",
    "            plt.plot(x_rect, y_rect,\"r\")\n",
    "        print(\"integrale =\", integrale)\n",
    "        plt.show()"
   ]
  },
  {
   "cell_type": "code",
   "execution_count": 58,
   "metadata": {},
   "outputs": [],
   "source": [
    "a = 0\n",
    "b = 3*np.pi/2\n",
    "n = 100\n",
    "x = np.linspace(a, b, n)\n",
    "f_cos = np.cos(x)\n",
    "f_sin=2*x+1\n",
    "Rec_cos=Rectangle(a,b,n,f_cos)\n",
    "Rec_sin=Rectangle(a,b,n,f_sin)"
   ]
  },
  {
   "cell_type": "code",
   "execution_count": 59,
   "metadata": {},
   "outputs": [
    {
     "data": {
      "text/plain": [
       "-0.9760112360739287"
      ]
     },
     "execution_count": 59,
     "metadata": {},
     "output_type": "execute_result"
    }
   ],
   "source": [
    "Rec_cos.integrate(f_cos)"
   ]
  },
  {
   "cell_type": "code",
   "execution_count": 60,
   "metadata": {},
   "outputs": [
    {
     "data": {
      "text/plain": [
       "26.69468969190189"
      ]
     },
     "execution_count": 60,
     "metadata": {},
     "output_type": "execute_result"
    }
   ],
   "source": [
    "Rec_sin.integrate(f_sin)"
   ]
  },
  {
   "cell_type": "code",
   "execution_count": 68,
   "metadata": {},
   "outputs": [
    {
     "name": "stdout",
     "output_type": "stream",
     "text": [
      "integrale = -0.9760112360739287\n"
     ]
    },
    {
     "data": {
      "image/png": "[encoded data removed]",
      "text/plain": [
       "<Figure size 432x288 with 1 Axes>"
      ]
     },
     "metadata": {
      "needs_background": "light"
     },
     "output_type": "display_data"
    }
   ],
   "source": [
    "Rec_cos.graph(f_cos)"
   ]
  },
  {
   "cell_type": "code",
   "execution_count": 67,
   "metadata": {},
   "outputs": [
    {
     "name": "stdout",
     "output_type": "stream",
     "text": [
      "None\n"
     ]
    }
   ],
   "source": []
  },
  {
   "cell_type": "code",
   "execution_count": 54,
   "metadata": {},
   "outputs": [
    {
     "name": "stdout",
     "output_type": "stream",
     "text": [
      "integrale = 26.69468969190189\n"
     ]
    },
    {
     "data": {
      "image/png": "[encoded data removed]",
      "text/plain": [
       "<Figure size 432x288 with 1 Axes>"
      ]
     },
     "metadata": {
      "needs_background": "light"
     },
     "output_type": "display_data"
    }
   ],
   "source": [
    "Rec_sin.graph(f_sin)"
   ]
  },
  {
   "cell_type": "code",
   "execution_count": 69,
   "metadata": {},
   "outputs": [],
   "source": [
    "class Trapezoidal(object):\n",
    "    def __init__(self, a, b, n, f):\n",
    "        self.a = a\n",
    "        self.b = b\n",
    "        self.x = np.linspace(a, b, n+1)\n",
    "        self.f = f\n",
    "        self.n = n\n",
    "    def integrate(self,f):\n",
    "        x=self.x\n",
    "        y=f(x)\n",
    "        h = float(x[1] - x[0])\n",
    "        s = y[0] + y[-1] + 2.0*sum(y[1:-1])\n",
    "        return h * s / 2.0\n",
    "    def Graph(self,f,resolution=1001):\n",
    "        xl = self.x\n",
    "        yl = f(xl)\n",
    "        xlist_fine=np.linspace(self.a, self.b, resolution)\n",
    "        for i in range(self.n):\n",
    "            x_rect = [xl[i], xl[i], xl[i+1], xl[i+1], xl[i]] # abscisses des sommets\n",
    "            y_rect = [0   , yl[i], yl[i+1]  , 0     , 0   ] # ordonnees des sommets\n",
    "            plot(x_rect, y_rect,\"m\")\n",
    "        yflist_fine = f(xlist_fine)\n",
    "        plt.plot(xlist_fine, yflist_fine)#plot de f(x)\n",
    "        plt.plot(xl, yl,\"cs\")#point support\n",
    "        plt.ylabel('f(x)')\n"
   ]
  },
  {
   "cell_type": "code",
   "execution_count": 73,
   "metadata": {},
   "outputs": [],
   "source": [
    "a = 0\n",
    "b = 3\n",
    "n = 10\n",
    "x = np.linspace(a, b, n)\n",
    "f_cos = np.cos(x)\n",
    "f_sin=np.sin(x)\n",
    "Trap_cos=Rectangle(a,b,n,f_cos)\n",
    "Trap_sin=Rectangle(a,b,n,f_sin)"
   ]
  },
  {
   "cell_type": "code",
   "execution_count": 74,
   "metadata": {},
   "outputs": [
    {
     "data": {
      "text/plain": [
       "0.4714763312461265"
      ]
     },
     "execution_count": 74,
     "metadata": {},
     "output_type": "execute_result"
    }
   ],
   "source": [
    "Trap_cos.integrate(f_cos)"
   ]
  },
  {
   "cell_type": "code",
   "execution_count": 75,
   "metadata": {},
   "outputs": [
    {
     "data": {
      "text/plain": [
       "1.9480124263295606"
      ]
     },
     "execution_count": 75,
     "metadata": {},
     "output_type": "execute_result"
    }
   ],
   "source": [
    "Trap_sin.integrate(f_sin)"
   ]
  },
  {
   "cell_type": "code",
   "execution_count": 76,
   "metadata": {},
   "outputs": [
    {
     "name": "stdout",
     "output_type": "stream",
     "text": [
      "integrale = 0.4714763312461265\n"
     ]
    },
    {
     "data": {
      "image/png": "[encoded data removed]",
      "text/plain": [
       "<Figure size 432x288 with 1 Axes>"
      ]
     },
     "metadata": {
      "needs_background": "light"
     },
     "output_type": "display_data"
    }
   ],
   "source": [
    "Trap_cos.graph(f_cos)"
   ]
  },
  {
   "cell_type": "code",
   "execution_count": 40,
   "metadata": {},
   "outputs": [
    {
     "name": "stdout",
     "output_type": "stream",
     "text": [
      "integrale = 1.0236111247646829\n"
     ]
    },
    {
     "data": {
      "image/png": "[encoded data removed]",
      "text/plain": [
       "<Figure size 432x288 with 1 Axes>"
      ]
     },
     "metadata": {
      "needs_background": "light"
     },
     "output_type": "display_data"
    }
   ],
   "source": [
    "Trap_sin.graph(f_sin)"
   ]
  },
  {
   "cell_type": "code",
   "execution_count": 44,
   "metadata": {},
   "outputs": [],
   "source": [
    "  #---------------------------------------------------- \n",
    "        varMeth=StringVar()\n",
    "        varMeth.set(\"Méthodes d’intégration numérique\")\n",
    "        labelMeth = Label(window, textvariable=varMeth, height=2)\n",
    "        labelMeth.grid(row=5, sticky=W, pady=10, padx=20)\n",
    "        var0 = IntVar()\n",
    "        self.checkbutton0=Checkbutton(window, text=\"all\", variable=var0)\n",
    "        self.checkbutton0.grid(row=5, column=1, pady=10, padx=10)\n",
    "        var1 = IntVar()\n",
    "        self.checkbutton1=Checkbutton(window, text=\"rectangle\", variable=var1)\n",
    "        self.checkbutton1.grid(row=5, column=2, pady=10, padx=10)\n",
    "        var2 = IntVar()\n",
    "        self.checkbutton2=Checkbutton(window, text=\"point fixe\", variable=var2)\n",
    "        self.checkbutton2.grid(row=6, column=0, pady=10, padx=10)\n",
    "        var3 = IntVar()\n",
    "        self.checkbutton3=Checkbutton(window, text=\"simpson\", variable=var3)\n",
    "        self.checkbutton3.grid(row=6, column=1, pady=10, padx=10)\n",
    "        var4 = IntVar()\n",
    "        self.checkbutton4=Checkbutton(window, text=\"trapez\", variable=var4) \n",
    "        self.checkbutton4.grid(row=6, column=2, pady=10, padx=10) "
   ]
  }
 ],
 "metadata": {
  "kernelspec": {
   "display_name": "Python 3",
   "language": "python",
   "name": "python3"
  },
  "language_info": {
   "codemirror_mode": {
    "name": "ipython",
    "version": 3
   },
   "file_extension": ".py",
   "mimetype": "text/x-python",
   "name": "python",
   "nbconvert_exporter": "python",
   "pygments_lexer": "ipython3",
   "version": "3.8.3"
  }
 },
 "nbformat": 4,
 "nbformat_minor": 4
}
